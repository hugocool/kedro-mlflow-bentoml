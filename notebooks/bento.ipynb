{
 "cells": [
  {
   "attachments": {},
   "cell_type": "markdown",
   "metadata": {},
   "source": [
    "# Init env"
   ]
  },
  {
   "cell_type": "code",
   "execution_count": 2,
   "metadata": {},
   "outputs": [
    {
     "data": {
      "text/html": [
       "<pre style=\"white-space:pre;overflow-x:auto;line-height:normal;font-family:Menlo,'DejaVu Sans Mono',consolas,'Courier New',monospace\"><span style=\"color: #7fbfbf; text-decoration-color: #7fbfbf\">[01/30/23 12:27:02] </span><span style=\"color: #000080; text-decoration-color: #000080\">INFO    </span> Resolved project path as: <span style=\"color: #800080; text-decoration-color: #800080\">/workspace/</span><span style=\"color: #ff00ff; text-decoration-color: #ff00ff\">kedro-mlflow-bentoml.</span>             <a href=\"file:///workspace/kedro-mlflow-bentoml/.venv/lib/python3.9/site-packages/kedro/ipython/__init__.py\" target=\"_blank\"><span style=\"color: #7f7f7f; text-decoration-color: #7f7f7f\">__init__.py</span></a><span style=\"color: #7f7f7f; text-decoration-color: #7f7f7f\">:</span><a href=\"file:///workspace/kedro-mlflow-bentoml/.venv/lib/python3.9/site-packages/kedro/ipython/__init__.py#132\" target=\"_blank\"><span style=\"color: #7f7f7f; text-decoration-color: #7f7f7f\">132</span></a>\n",
       "<span style=\"color: #7fbfbf; text-decoration-color: #7fbfbf\">                    </span>         To set a different path, run <span style=\"color: #008000; text-decoration-color: #008000\">'%reload_kedro &lt;project_root&gt;'</span>            <span style=\"color: #7f7f7f; text-decoration-color: #7f7f7f\">               </span>\n",
       "</pre>\n"
      ],
      "text/plain": [
       "\u001b[2;36m[01/30/23 12:27:02]\u001b[0m\u001b[2;36m \u001b[0m\u001b[34mINFO    \u001b[0m Resolved project path as: \u001b[35m/workspace/\u001b[0m\u001b[95mkedro-mlflow-bentoml.\u001b[0m             \u001b]8;id=438721;file:///workspace/kedro-mlflow-bentoml/.venv/lib/python3.9/site-packages/kedro/ipython/__init__.py\u001b\\\u001b[2m__init__.py\u001b[0m\u001b]8;;\u001b\\\u001b[2m:\u001b[0m\u001b]8;id=713362;file:///workspace/kedro-mlflow-bentoml/.venv/lib/python3.9/site-packages/kedro/ipython/__init__.py#132\u001b\\\u001b[2m132\u001b[0m\u001b]8;;\u001b\\\n",
       "\u001b[2;36m                    \u001b[0m         To set a different path, run \u001b[32m'%reload_kedro \u001b[0m\u001b[32m<\u001b[0m\u001b[32mproject_root\u001b[0m\u001b[32m>\u001b[0m\u001b[32m'\u001b[0m            \u001b[2m               \u001b[0m\n"
      ]
     },
     "metadata": {},
     "output_type": "display_data"
    },
    {
     "data": {
      "text/html": [
       "<pre style=\"white-space:pre;overflow-x:auto;line-height:normal;font-family:Menlo,'DejaVu Sans Mono',consolas,'Courier New',monospace\"><span style=\"color: #7fbfbf; text-decoration-color: #7fbfbf\">[01/30/23 12:27:02] </span><span style=\"color: #000080; text-decoration-color: #000080\">INFO    </span> Kedro project kedro-mlflow-bentoml                                     <a href=\"file:///workspace/kedro-mlflow-bentoml/.venv/lib/python3.9/site-packages/kedro/ipython/__init__.py\" target=\"_blank\"><span style=\"color: #7f7f7f; text-decoration-color: #7f7f7f\">__init__.py</span></a><span style=\"color: #7f7f7f; text-decoration-color: #7f7f7f\">:</span><a href=\"file:///workspace/kedro-mlflow-bentoml/.venv/lib/python3.9/site-packages/kedro/ipython/__init__.py#101\" target=\"_blank\"><span style=\"color: #7f7f7f; text-decoration-color: #7f7f7f\">101</span></a>\n",
       "</pre>\n"
      ],
      "text/plain": [
       "\u001b[2;36m[01/30/23 12:27:02]\u001b[0m\u001b[2;36m \u001b[0m\u001b[34mINFO    \u001b[0m Kedro project kedro-mlflow-bentoml                                     \u001b]8;id=108216;file:///workspace/kedro-mlflow-bentoml/.venv/lib/python3.9/site-packages/kedro/ipython/__init__.py\u001b\\\u001b[2m__init__.py\u001b[0m\u001b]8;;\u001b\\\u001b[2m:\u001b[0m\u001b]8;id=578585;file:///workspace/kedro-mlflow-bentoml/.venv/lib/python3.9/site-packages/kedro/ipython/__init__.py#101\u001b\\\u001b[2m101\u001b[0m\u001b]8;;\u001b\\\n"
      ]
     },
     "metadata": {},
     "output_type": "display_data"
    },
    {
     "data": {
      "text/html": [
       "<pre style=\"white-space:pre;overflow-x:auto;line-height:normal;font-family:Menlo,'DejaVu Sans Mono',consolas,'Courier New',monospace\"><span style=\"color: #7fbfbf; text-decoration-color: #7fbfbf\">                    </span><span style=\"color: #000080; text-decoration-color: #000080\">INFO    </span> Defined global variable <span style=\"color: #008000; text-decoration-color: #008000\">'context'</span>, <span style=\"color: #008000; text-decoration-color: #008000\">'session'</span>, <span style=\"color: #008000; text-decoration-color: #008000\">'catalog'</span> and            <a href=\"file:///workspace/kedro-mlflow-bentoml/.venv/lib/python3.9/site-packages/kedro/ipython/__init__.py\" target=\"_blank\"><span style=\"color: #7f7f7f; text-decoration-color: #7f7f7f\">__init__.py</span></a><span style=\"color: #7f7f7f; text-decoration-color: #7f7f7f\">:</span><a href=\"file:///workspace/kedro-mlflow-bentoml/.venv/lib/python3.9/site-packages/kedro/ipython/__init__.py#102\" target=\"_blank\"><span style=\"color: #7f7f7f; text-decoration-color: #7f7f7f\">102</span></a>\n",
       "<span style=\"color: #7fbfbf; text-decoration-color: #7fbfbf\">                    </span>         <span style=\"color: #008000; text-decoration-color: #008000\">'pipelines'</span>                                                            <span style=\"color: #7f7f7f; text-decoration-color: #7f7f7f\">               </span>\n",
       "</pre>\n"
      ],
      "text/plain": [
       "\u001b[2;36m                   \u001b[0m\u001b[2;36m \u001b[0m\u001b[34mINFO    \u001b[0m Defined global variable \u001b[32m'context'\u001b[0m, \u001b[32m'session'\u001b[0m, \u001b[32m'catalog'\u001b[0m and            \u001b]8;id=697284;file:///workspace/kedro-mlflow-bentoml/.venv/lib/python3.9/site-packages/kedro/ipython/__init__.py\u001b\\\u001b[2m__init__.py\u001b[0m\u001b]8;;\u001b\\\u001b[2m:\u001b[0m\u001b]8;id=26022;file:///workspace/kedro-mlflow-bentoml/.venv/lib/python3.9/site-packages/kedro/ipython/__init__.py#102\u001b\\\u001b[2m102\u001b[0m\u001b]8;;\u001b\\\n",
       "\u001b[2;36m                    \u001b[0m         \u001b[32m'pipelines'\u001b[0m                                                            \u001b[2m               \u001b[0m\n"
      ]
     },
     "metadata": {},
     "output_type": "display_data"
    },
    {
     "data": {
      "text/html": [
       "<pre style=\"white-space:pre;overflow-x:auto;line-height:normal;font-family:Menlo,'DejaVu Sans Mono',consolas,'Courier New',monospace\"><span style=\"color: #7fbfbf; text-decoration-color: #7fbfbf\">[01/30/23 12:27:03] </span><span style=\"color: #800000; text-decoration-color: #800000\">WARNING </span> <span style=\"color: #800080; text-decoration-color: #800080\">/workspace/kedro-mlflow-bentoml/.venv/lib/python3.9/site-packages/kedr</span> <a href=\"file:///home/gitpod/.pyenv/versions/3.9.16/lib/python3.9/warnings.py\" target=\"_blank\"><span style=\"color: #7f7f7f; text-decoration-color: #7f7f7f\">warnings.py</span></a><span style=\"color: #7f7f7f; text-decoration-color: #7f7f7f\">:</span><a href=\"file:///home/gitpod/.pyenv/versions/3.9.16/lib/python3.9/warnings.py#109\" target=\"_blank\"><span style=\"color: #7f7f7f; text-decoration-color: #7f7f7f\">109</span></a>\n",
       "<span style=\"color: #7fbfbf; text-decoration-color: #7fbfbf\">                    </span>         <span style=\"color: #800080; text-decoration-color: #800080\">o_viz/models/</span><span style=\"color: #ff00ff; text-decoration-color: #ff00ff\">experiment_tracking.py</span>:<span style=\"color: #008080; text-decoration-color: #008080; font-weight: bold\">18</span>: MovedIn20Warning: Deprecated   <span style=\"color: #7f7f7f; text-decoration-color: #7f7f7f\">               </span>\n",
       "<span style=\"color: #7fbfbf; text-decoration-color: #7fbfbf\">                    </span>         API features detected! These <span style=\"color: #800080; text-decoration-color: #800080; font-weight: bold\">feature</span><span style=\"font-weight: bold\">(</span>s<span style=\"font-weight: bold\">)</span> are not compatible with        <span style=\"color: #7f7f7f; text-decoration-color: #7f7f7f\">               </span>\n",
       "<span style=\"color: #7fbfbf; text-decoration-color: #7fbfbf\">                    </span>         SQLAlchemy <span style=\"color: #008080; text-decoration-color: #008080; font-weight: bold\">2.0</span>. To prevent incompatible upgrades prior to updating     <span style=\"color: #7f7f7f; text-decoration-color: #7f7f7f\">               </span>\n",
       "<span style=\"color: #7fbfbf; text-decoration-color: #7fbfbf\">                    </span>         applications, ensure requirements files are pinned to                  <span style=\"color: #7f7f7f; text-decoration-color: #7f7f7f\">               </span>\n",
       "<span style=\"color: #7fbfbf; text-decoration-color: #7fbfbf\">                    </span>         <span style=\"color: #008000; text-decoration-color: #008000\">\"sqlalchemy&lt;2.0\"</span>. Set environment variable <span style=\"color: #808000; text-decoration-color: #808000\">SQLALCHEMY_WARN_20</span>=<span style=\"color: #008080; text-decoration-color: #008080; font-weight: bold\">1</span> to     <span style=\"color: #7f7f7f; text-decoration-color: #7f7f7f\">               </span>\n",
       "<span style=\"color: #7fbfbf; text-decoration-color: #7fbfbf\">                    </span>         show all deprecation warnings.  Set environment variable               <span style=\"color: #7f7f7f; text-decoration-color: #7f7f7f\">               </span>\n",
       "<span style=\"color: #7fbfbf; text-decoration-color: #7fbfbf\">                    </span>         <span style=\"color: #808000; text-decoration-color: #808000\">SQLALCHEMY_SILENCE_UBER_WARNING</span>=<span style=\"color: #008080; text-decoration-color: #008080; font-weight: bold\">1</span> to silence this message. <span style=\"font-weight: bold\">(</span>Background <span style=\"color: #7f7f7f; text-decoration-color: #7f7f7f\">               </span>\n",
       "<span style=\"color: #7fbfbf; text-decoration-color: #7fbfbf\">                    </span>         on SQLAlchemy <span style=\"color: #008080; text-decoration-color: #008080; font-weight: bold\">2.0</span> at: <span style=\"color: #0000ff; text-decoration-color: #0000ff; text-decoration: underline\">https://sqlalche.me/e/b8d9)</span>                      <span style=\"color: #7f7f7f; text-decoration-color: #7f7f7f\">               </span>\n",
       "<span style=\"color: #7fbfbf; text-decoration-color: #7fbfbf\">                    </span>           Base = <span style=\"color: #800080; text-decoration-color: #800080; font-weight: bold\">declarative_base</span><span style=\"font-weight: bold\">()</span>                                            <span style=\"color: #7f7f7f; text-decoration-color: #7f7f7f\">               </span>\n",
       "<span style=\"color: #7fbfbf; text-decoration-color: #7fbfbf\">                    </span>                                                                                <span style=\"color: #7f7f7f; text-decoration-color: #7f7f7f\">               </span>\n",
       "</pre>\n"
      ],
      "text/plain": [
       "\u001b[2;36m[01/30/23 12:27:03]\u001b[0m\u001b[2;36m \u001b[0m\u001b[31mWARNING \u001b[0m \u001b[35m/workspace/kedro-mlflow-bentoml/.venv/lib/python3.9/site-packages/kedr\u001b[0m \u001b]8;id=76841;file:///home/gitpod/.pyenv/versions/3.9.16/lib/python3.9/warnings.py\u001b\\\u001b[2mwarnings.py\u001b[0m\u001b]8;;\u001b\\\u001b[2m:\u001b[0m\u001b]8;id=66516;file:///home/gitpod/.pyenv/versions/3.9.16/lib/python3.9/warnings.py#109\u001b\\\u001b[2m109\u001b[0m\u001b]8;;\u001b\\\n",
       "\u001b[2;36m                    \u001b[0m         \u001b[35mo_viz/models/\u001b[0m\u001b[95mexperiment_tracking.py\u001b[0m:\u001b[1;36m18\u001b[0m: MovedIn20Warning: Deprecated   \u001b[2m               \u001b[0m\n",
       "\u001b[2;36m                    \u001b[0m         API features detected! These \u001b[1;35mfeature\u001b[0m\u001b[1m(\u001b[0ms\u001b[1m)\u001b[0m are not compatible with        \u001b[2m               \u001b[0m\n",
       "\u001b[2;36m                    \u001b[0m         SQLAlchemy \u001b[1;36m2.0\u001b[0m. To prevent incompatible upgrades prior to updating     \u001b[2m               \u001b[0m\n",
       "\u001b[2;36m                    \u001b[0m         applications, ensure requirements files are pinned to                  \u001b[2m               \u001b[0m\n",
       "\u001b[2;36m                    \u001b[0m         \u001b[32m\"sqlalchemy<2.0\"\u001b[0m. Set environment variable \u001b[33mSQLALCHEMY_WARN_20\u001b[0m=\u001b[1;36m1\u001b[0m to     \u001b[2m               \u001b[0m\n",
       "\u001b[2;36m                    \u001b[0m         show all deprecation warnings.  Set environment variable               \u001b[2m               \u001b[0m\n",
       "\u001b[2;36m                    \u001b[0m         \u001b[33mSQLALCHEMY_SILENCE_UBER_WARNING\u001b[0m=\u001b[1;36m1\u001b[0m to silence this message. \u001b[1m(\u001b[0mBackground \u001b[2m               \u001b[0m\n",
       "\u001b[2;36m                    \u001b[0m         on SQLAlchemy \u001b[1;36m2.0\u001b[0m at: \u001b[4;94mhttps://sqlalche.me/e/b8d9\u001b[0m\u001b[4;94m)\u001b[0m                      \u001b[2m               \u001b[0m\n",
       "\u001b[2;36m                    \u001b[0m           Base = \u001b[1;35mdeclarative_base\u001b[0m\u001b[1m(\u001b[0m\u001b[1m)\u001b[0m                                            \u001b[2m               \u001b[0m\n",
       "\u001b[2;36m                    \u001b[0m                                                                                \u001b[2m               \u001b[0m\n"
      ]
     },
     "metadata": {},
     "output_type": "display_data"
    },
    {
     "data": {
      "text/html": [
       "<pre style=\"white-space:pre;overflow-x:auto;line-height:normal;font-family:Menlo,'DejaVu Sans Mono',consolas,'Courier New',monospace\"><span style=\"color: #7fbfbf; text-decoration-color: #7fbfbf\">                    </span><span style=\"color: #800000; text-decoration-color: #800000\">WARNING </span> <span style=\"color: #800080; text-decoration-color: #800080\">/workspace/kedro-mlflow-bentoml/.venv/lib/python3.9/site-packages/plot</span> <a href=\"file:///home/gitpod/.pyenv/versions/3.9.16/lib/python3.9/warnings.py\" target=\"_blank\"><span style=\"color: #7f7f7f; text-decoration-color: #7f7f7f\">warnings.py</span></a><span style=\"color: #7f7f7f; text-decoration-color: #7f7f7f\">:</span><a href=\"file:///home/gitpod/.pyenv/versions/3.9.16/lib/python3.9/warnings.py#109\" target=\"_blank\"><span style=\"color: #7f7f7f; text-decoration-color: #7f7f7f\">109</span></a>\n",
       "<span style=\"color: #7fbfbf; text-decoration-color: #7fbfbf\">                    </span>         <span style=\"color: #800080; text-decoration-color: #800080\">ly/graph_objects/</span><span style=\"color: #ff00ff; text-decoration-color: #ff00ff\">__init__.py</span>:<span style=\"color: #008080; text-decoration-color: #008080; font-weight: bold\">288</span>: DeprecationWarning: distutils        <span style=\"color: #7f7f7f; text-decoration-color: #7f7f7f\">               </span>\n",
       "<span style=\"color: #7fbfbf; text-decoration-color: #7fbfbf\">                    </span>         Version classes are deprecated. Use packaging.version instead.         <span style=\"color: #7f7f7f; text-decoration-color: #7f7f7f\">               </span>\n",
       "<span style=\"color: #7fbfbf; text-decoration-color: #7fbfbf\">                    </span>           if <span style=\"color: #800080; text-decoration-color: #800080; font-weight: bold\">LooseVersion</span><span style=\"font-weight: bold\">(</span>ipywidgets.__version__<span style=\"font-weight: bold\">)</span> &gt;= <span style=\"color: #800080; text-decoration-color: #800080; font-weight: bold\">LooseVersion</span><span style=\"font-weight: bold\">(</span><span style=\"color: #008000; text-decoration-color: #008000\">\"7.0.0\"</span><span style=\"font-weight: bold\">)</span>:    <span style=\"color: #7f7f7f; text-decoration-color: #7f7f7f\">               </span>\n",
       "<span style=\"color: #7fbfbf; text-decoration-color: #7fbfbf\">                    </span>                                                                                <span style=\"color: #7f7f7f; text-decoration-color: #7f7f7f\">               </span>\n",
       "</pre>\n"
      ],
      "text/plain": [
       "\u001b[2;36m                   \u001b[0m\u001b[2;36m \u001b[0m\u001b[31mWARNING \u001b[0m \u001b[35m/workspace/kedro-mlflow-bentoml/.venv/lib/python3.9/site-packages/plot\u001b[0m \u001b]8;id=3052;file:///home/gitpod/.pyenv/versions/3.9.16/lib/python3.9/warnings.py\u001b\\\u001b[2mwarnings.py\u001b[0m\u001b]8;;\u001b\\\u001b[2m:\u001b[0m\u001b]8;id=514642;file:///home/gitpod/.pyenv/versions/3.9.16/lib/python3.9/warnings.py#109\u001b\\\u001b[2m109\u001b[0m\u001b]8;;\u001b\\\n",
       "\u001b[2;36m                    \u001b[0m         \u001b[35mly/graph_objects/\u001b[0m\u001b[95m__init__.py\u001b[0m:\u001b[1;36m288\u001b[0m: DeprecationWarning: distutils        \u001b[2m               \u001b[0m\n",
       "\u001b[2;36m                    \u001b[0m         Version classes are deprecated. Use packaging.version instead.         \u001b[2m               \u001b[0m\n",
       "\u001b[2;36m                    \u001b[0m           if \u001b[1;35mLooseVersion\u001b[0m\u001b[1m(\u001b[0mipywidgets.__version__\u001b[1m)\u001b[0m >= \u001b[1;35mLooseVersion\u001b[0m\u001b[1m(\u001b[0m\u001b[32m\"7.0.0\"\u001b[0m\u001b[1m)\u001b[0m:    \u001b[2m               \u001b[0m\n",
       "\u001b[2;36m                    \u001b[0m                                                                                \u001b[2m               \u001b[0m\n"
      ]
     },
     "metadata": {},
     "output_type": "display_data"
    },
    {
     "data": {
      "text/html": [
       "<pre style=\"white-space:pre;overflow-x:auto;line-height:normal;font-family:Menlo,'DejaVu Sans Mono',consolas,'Courier New',monospace\"><span style=\"color: #7fbfbf; text-decoration-color: #7fbfbf\">                    </span><span style=\"color: #000080; text-decoration-color: #000080\">INFO    </span> Registered line magic <span style=\"color: #008000; text-decoration-color: #008000\">'run_viz'</span>                                        <a href=\"file:///workspace/kedro-mlflow-bentoml/.venv/lib/python3.9/site-packages/kedro/ipython/__init__.py\" target=\"_blank\"><span style=\"color: #7f7f7f; text-decoration-color: #7f7f7f\">__init__.py</span></a><span style=\"color: #7f7f7f; text-decoration-color: #7f7f7f\">:</span><a href=\"file:///workspace/kedro-mlflow-bentoml/.venv/lib/python3.9/site-packages/kedro/ipython/__init__.py#108\" target=\"_blank\"><span style=\"color: #7f7f7f; text-decoration-color: #7f7f7f\">108</span></a>\n",
       "</pre>\n"
      ],
      "text/plain": [
       "\u001b[2;36m                   \u001b[0m\u001b[2;36m \u001b[0m\u001b[34mINFO    \u001b[0m Registered line magic \u001b[32m'run_viz'\u001b[0m                                        \u001b]8;id=979802;file:///workspace/kedro-mlflow-bentoml/.venv/lib/python3.9/site-packages/kedro/ipython/__init__.py\u001b\\\u001b[2m__init__.py\u001b[0m\u001b]8;;\u001b\\\u001b[2m:\u001b[0m\u001b]8;id=975075;file:///workspace/kedro-mlflow-bentoml/.venv/lib/python3.9/site-packages/kedro/ipython/__init__.py#108\u001b\\\u001b[2m108\u001b[0m\u001b]8;;\u001b\\\n"
      ]
     },
     "metadata": {},
     "output_type": "display_data"
    }
   ],
   "source": [
    "%load_ext kedro.ipython"
   ]
  },
  {
   "attachments": {},
   "cell_type": "markdown",
   "metadata": {},
   "source": [
    "# Search MLFlow for the right model\n",
    "Find the `run_id` of the model we are looking for."
   ]
  },
  {
   "cell_type": "code",
   "execution_count": 16,
   "metadata": {},
   "outputs": [
    {
     "data": {
      "text/html": [
       "<div>\n",
       "<style scoped>\n",
       "    .dataframe tbody tr th:only-of-type {\n",
       "        vertical-align: middle;\n",
       "    }\n",
       "\n",
       "    .dataframe tbody tr th {\n",
       "        vertical-align: top;\n",
       "    }\n",
       "\n",
       "    .dataframe thead th {\n",
       "        text-align: right;\n",
       "    }\n",
       "</style>\n",
       "<table border=\"1\" class=\"dataframe\">\n",
       "  <thead>\n",
       "    <tr style=\"text-align: right;\">\n",
       "      <th></th>\n",
       "      <th>run_id</th>\n",
       "      <th>experiment_id</th>\n",
       "      <th>status</th>\n",
       "      <th>artifact_uri</th>\n",
       "      <th>start_time</th>\n",
       "      <th>end_time</th>\n",
       "      <th>metrics.accuracy</th>\n",
       "      <th>params.parameters.train_fraction</th>\n",
       "      <th>params.parameters.random_state</th>\n",
       "      <th>params.parameters.target_column</th>\n",
       "      <th>...</th>\n",
       "      <th>tags.mlflow.runName</th>\n",
       "      <th>tags.mlflow.source.name</th>\n",
       "      <th>tags.mlflow.user</th>\n",
       "      <th>tags.project_path</th>\n",
       "      <th>tags.kedro_version</th>\n",
       "      <th>tags.runner</th>\n",
       "      <th>tags.mlflow.log-model.history</th>\n",
       "      <th>tags.mlflow.source.git.commit</th>\n",
       "      <th>tags.session_id</th>\n",
       "      <th>tags.mlflow.source.type</th>\n",
       "    </tr>\n",
       "  </thead>\n",
       "  <tbody>\n",
       "    <tr>\n",
       "      <th>0</th>\n",
       "      <td>ad89d72ee7834858bc36483b2e0b78ec</td>\n",
       "      <td>0</td>\n",
       "      <td>FINISHED</td>\n",
       "      <td>mlflow-artifacts:/9f3526bc78854340940212944062...</td>\n",
       "      <td>2023-01-30 12:42:47.062000+00:00</td>\n",
       "      <td>2023-01-30 12:42:54.274000+00:00</td>\n",
       "      <td>0.9</td>\n",
       "      <td>0.8</td>\n",
       "      <td>3</td>\n",
       "      <td>species</td>\n",
       "      <td>...</td>\n",
       "      <td>__default__</td>\n",
       "      <td>/workspace/kedro-mlflow-bentoml/.venv/bin/kedro</td>\n",
       "      <td>hugocool</td>\n",
       "      <td>/workspace/kedro-mlflow-bentoml</td>\n",
       "      <td>0.18.4</td>\n",
       "      <td>&lt;kedro.runner.sequential_runner.SequentialRunn...</td>\n",
       "      <td>[{\"run_id\": \"ad89d72ee7834858bc36483b2e0b78ec\"...</td>\n",
       "      <td>d951f1af67b08e93be3c969e06051758b9043c0e</td>\n",
       "      <td>2023-01-30T12.42.46.062Z</td>\n",
       "      <td>LOCAL</td>\n",
       "    </tr>\n",
       "    <tr>\n",
       "      <th>1</th>\n",
       "      <td>2a82e1ea68dc468ead276b7290ef4bb5</td>\n",
       "      <td>0</td>\n",
       "      <td>FINISHED</td>\n",
       "      <td>mlflow-artifacts:/9f3526bc78854340940212944062...</td>\n",
       "      <td>2023-01-30 09:19:48.607000+00:00</td>\n",
       "      <td>2023-01-30 09:20:10.038000+00:00</td>\n",
       "      <td>0.9</td>\n",
       "      <td>0.8</td>\n",
       "      <td>3</td>\n",
       "      <td>species</td>\n",
       "      <td>...</td>\n",
       "      <td>__default__</td>\n",
       "      <td>/workspace/kedro-mlflow-bentoml/.venv/bin/kedro</td>\n",
       "      <td>hugocool</td>\n",
       "      <td>/workspace/kedro-mlflow-bentoml</td>\n",
       "      <td>0.18.4</td>\n",
       "      <td>&lt;kedro.runner.sequential_runner.SequentialRunn...</td>\n",
       "      <td>[{\"run_id\": \"2a82e1ea68dc468ead276b7290ef4bb5\"...</td>\n",
       "      <td>c13d23032e636859079a0626ddeb20fa3217bf24</td>\n",
       "      <td>2023-01-30T09.19.47.546Z</td>\n",
       "      <td>LOCAL</td>\n",
       "    </tr>\n",
       "    <tr>\n",
       "      <th>2</th>\n",
       "      <td>a998695385f04bc2a109cbcfc6891268</td>\n",
       "      <td>0</td>\n",
       "      <td>FINISHED</td>\n",
       "      <td>mlflow-artifacts:/9f3526bc78854340940212944062...</td>\n",
       "      <td>2023-01-29 16:31:04.126000+00:00</td>\n",
       "      <td>2023-01-29 16:31:05.611000+00:00</td>\n",
       "      <td>0.9</td>\n",
       "      <td>0.8</td>\n",
       "      <td>3</td>\n",
       "      <td>species</td>\n",
       "      <td>...</td>\n",
       "      <td>__default__</td>\n",
       "      <td>/workspace/kedro-mlflow-bentoml/.venv/bin/kedro</td>\n",
       "      <td>hugocool</td>\n",
       "      <td>/workspace/kedro-mlflow-bentoml</td>\n",
       "      <td>0.18.4</td>\n",
       "      <td>&lt;kedro.runner.sequential_runner.SequentialRunn...</td>\n",
       "      <td>None</td>\n",
       "      <td>e6ffc77e8443e08e5229e9928b3597eaa17ae920</td>\n",
       "      <td>2023-01-29T16.31.02.969Z</td>\n",
       "      <td>LOCAL</td>\n",
       "    </tr>\n",
       "  </tbody>\n",
       "</table>\n",
       "<p>3 rows × 21 columns</p>\n",
       "</div>"
      ]
     },
     "execution_count": 16,
     "metadata": {},
     "output_type": "execute_result"
    }
   ],
   "source": [
    "import mlflow\n",
    "\n",
    "mlflow_res = mlflow.search_runs(filter_string=\"metrics.accuracy < 1\")\n",
    "mlflow_res"
   ]
  },
  {
   "cell_type": "code",
   "execution_count": 18,
   "metadata": {},
   "outputs": [],
   "source": [
    "run_id = mlflow_res.loc[mlflow_res['metrics.accuracy'].idxmax()]['run_id']"
   ]
  },
  {
   "attachments": {},
   "cell_type": "markdown",
   "metadata": {},
   "source": [
    "# Load model into BentoML"
   ]
  },
  {
   "cell_type": "code",
   "execution_count": 28,
   "metadata": {},
   "outputs": [
    {
     "data": {
      "text/html": [
       "<pre style=\"white-space:pre;overflow-x:auto;line-height:normal;font-family:Menlo,'DejaVu Sans Mono',consolas,'Courier New',monospace\"><span style=\"color: #7fbfbf; text-decoration-color: #7fbfbf\">[01/30/23 13:41:08] </span><span style=\"color: #800000; text-decoration-color: #800000\">WARNING </span> Retrying <span style=\"font-weight: bold\">(</span><span style=\"color: #800080; text-decoration-color: #800080; font-weight: bold\">Retry</span><span style=\"font-weight: bold\">(</span><span style=\"color: #808000; text-decoration-color: #808000\">total</span>=<span style=\"color: #008080; text-decoration-color: #008080; font-weight: bold\">4</span>, <span style=\"color: #808000; text-decoration-color: #808000\">connect</span>=<span style=\"color: #008080; text-decoration-color: #008080; font-weight: bold\">5</span>, <span style=\"color: #808000; text-decoration-color: #808000\">read</span>=<span style=\"color: #008080; text-decoration-color: #008080; font-weight: bold\">4</span>, <span style=\"color: #808000; text-decoration-color: #808000\">redirect</span>=<span style=\"color: #008080; text-decoration-color: #008080; font-weight: bold\">5</span>,          <a href=\"file:///workspace/kedro-mlflow-bentoml/.venv/lib/python3.9/site-packages/urllib3/connectionpool.py\" target=\"_blank\"><span style=\"color: #7f7f7f; text-decoration-color: #7f7f7f\">connectionpool.py</span></a><span style=\"color: #7f7f7f; text-decoration-color: #7f7f7f\">:</span><a href=\"file:///workspace/kedro-mlflow-bentoml/.venv/lib/python3.9/site-packages/urllib3/connectionpool.py#812\" target=\"_blank\"><span style=\"color: #7f7f7f; text-decoration-color: #7f7f7f\">812</span></a>\n",
       "<span style=\"color: #7fbfbf; text-decoration-color: #7fbfbf\">                    </span>         <span style=\"color: #808000; text-decoration-color: #808000\">status</span>=<span style=\"color: #008080; text-decoration-color: #008080; font-weight: bold\">5</span><span style=\"font-weight: bold\">))</span> after connection broken by <span style=\"color: #008000; text-decoration-color: #008000\">'ProtocolError('</span>Connection <span style=\"color: #7f7f7f; text-decoration-color: #7f7f7f\">                     </span>\n",
       "<span style=\"color: #7fbfbf; text-decoration-color: #7fbfbf\">                    </span>         aborted.<span style=\"color: #008000; text-decoration-color: #008000\">', ConnectionResetError(104, '</span>Connection reset by        <span style=\"color: #7f7f7f; text-decoration-color: #7f7f7f\">                     </span>\n",
       "<span style=\"color: #7fbfbf; text-decoration-color: #7fbfbf\">                    </span>         peer'<span style=\"font-weight: bold\">))</span>':                                                        <span style=\"color: #7f7f7f; text-decoration-color: #7f7f7f\">                     </span>\n",
       "<span style=\"color: #7fbfbf; text-decoration-color: #7fbfbf\">                    </span>         <span style=\"color: #800080; text-decoration-color: #800080\">/hugocool/kedro-mlflow-bentoml.mlflow/api/2.0/mlflow-artifacts/a</span> <span style=\"color: #7f7f7f; text-decoration-color: #7f7f7f\">                     </span>\n",
       "<span style=\"color: #7fbfbf; text-decoration-color: #7fbfbf\">                    </span>         <span style=\"color: #800080; text-decoration-color: #800080\">rtifacts/9f3526bc7885434094021294406240a2/ad89d72ee7834858bc3648</span> <span style=\"color: #7f7f7f; text-decoration-color: #7f7f7f\">                     </span>\n",
       "<span style=\"color: #7fbfbf; text-decoration-color: #7fbfbf\">                    </span>         <span style=\"color: #800080; text-decoration-color: #800080\">3b2e0b78ec/artifacts/model/</span><span style=\"color: #ff00ff; text-decoration-color: #ff00ff\">conda.yaml</span>                            <span style=\"color: #7f7f7f; text-decoration-color: #7f7f7f\">                     </span>\n",
       "</pre>\n"
      ],
      "text/plain": [
       "\u001b[2;36m[01/30/23 13:41:08]\u001b[0m\u001b[2;36m \u001b[0m\u001b[31mWARNING \u001b[0m Retrying \u001b[1m(\u001b[0m\u001b[1;35mRetry\u001b[0m\u001b[1m(\u001b[0m\u001b[33mtotal\u001b[0m=\u001b[1;36m4\u001b[0m, \u001b[33mconnect\u001b[0m=\u001b[1;36m5\u001b[0m, \u001b[33mread\u001b[0m=\u001b[1;36m4\u001b[0m, \u001b[33mredirect\u001b[0m=\u001b[1;36m5\u001b[0m,          \u001b]8;id=912792;file:///workspace/kedro-mlflow-bentoml/.venv/lib/python3.9/site-packages/urllib3/connectionpool.py\u001b\\\u001b[2mconnectionpool.py\u001b[0m\u001b]8;;\u001b\\\u001b[2m:\u001b[0m\u001b]8;id=251209;file:///workspace/kedro-mlflow-bentoml/.venv/lib/python3.9/site-packages/urllib3/connectionpool.py#812\u001b\\\u001b[2m812\u001b[0m\u001b]8;;\u001b\\\n",
       "\u001b[2;36m                    \u001b[0m         \u001b[33mstatus\u001b[0m=\u001b[1;36m5\u001b[0m\u001b[1m)\u001b[0m\u001b[1m)\u001b[0m after connection broken by \u001b[32m'ProtocolError\u001b[0m\u001b[32m(\u001b[0m\u001b[32m'\u001b[0mConnection \u001b[2m                     \u001b[0m\n",
       "\u001b[2;36m                    \u001b[0m         aborted.\u001b[32m', ConnectionResetError\u001b[0m\u001b[32m(\u001b[0m\u001b[32m104, '\u001b[0mConnection reset by        \u001b[2m                     \u001b[0m\n",
       "\u001b[2;36m                    \u001b[0m         peer'\u001b[1m)\u001b[0m\u001b[1m)\u001b[0m':                                                        \u001b[2m                     \u001b[0m\n",
       "\u001b[2;36m                    \u001b[0m         \u001b[35m/hugocool/kedro-mlflow-bentoml.mlflow/api/2.0/mlflow-artifacts/a\u001b[0m \u001b[2m                     \u001b[0m\n",
       "\u001b[2;36m                    \u001b[0m         \u001b[35mrtifacts/9f3526bc7885434094021294406240a2/ad89d72ee7834858bc3648\u001b[0m \u001b[2m                     \u001b[0m\n",
       "\u001b[2;36m                    \u001b[0m         \u001b[35m3b2e0b78ec/artifacts/model/\u001b[0m\u001b[95mconda.yaml\u001b[0m                            \u001b[2m                     \u001b[0m\n"
      ]
     },
     "metadata": {},
     "output_type": "display_data"
    },
    {
     "data": {
      "text/html": [
       "<pre style=\"white-space:pre;overflow-x:auto;line-height:normal;font-family:Menlo,'DejaVu Sans Mono',consolas,'Courier New',monospace\"><span style=\"color: #7fbfbf; text-decoration-color: #7fbfbf\">                    </span><span style=\"color: #800000; text-decoration-color: #800000\">WARNING </span> Retrying <span style=\"font-weight: bold\">(</span><span style=\"color: #800080; text-decoration-color: #800080; font-weight: bold\">Retry</span><span style=\"font-weight: bold\">(</span><span style=\"color: #808000; text-decoration-color: #808000\">total</span>=<span style=\"color: #008080; text-decoration-color: #008080; font-weight: bold\">4</span>, <span style=\"color: #808000; text-decoration-color: #808000\">connect</span>=<span style=\"color: #008080; text-decoration-color: #008080; font-weight: bold\">5</span>, <span style=\"color: #808000; text-decoration-color: #808000\">read</span>=<span style=\"color: #008080; text-decoration-color: #008080; font-weight: bold\">4</span>, <span style=\"color: #808000; text-decoration-color: #808000\">redirect</span>=<span style=\"color: #008080; text-decoration-color: #008080; font-weight: bold\">5</span>,          <a href=\"file:///workspace/kedro-mlflow-bentoml/.venv/lib/python3.9/site-packages/urllib3/connectionpool.py\" target=\"_blank\"><span style=\"color: #7f7f7f; text-decoration-color: #7f7f7f\">connectionpool.py</span></a><span style=\"color: #7f7f7f; text-decoration-color: #7f7f7f\">:</span><a href=\"file:///workspace/kedro-mlflow-bentoml/.venv/lib/python3.9/site-packages/urllib3/connectionpool.py#812\" target=\"_blank\"><span style=\"color: #7f7f7f; text-decoration-color: #7f7f7f\">812</span></a>\n",
       "<span style=\"color: #7fbfbf; text-decoration-color: #7fbfbf\">                    </span>         <span style=\"color: #808000; text-decoration-color: #808000\">status</span>=<span style=\"color: #008080; text-decoration-color: #008080; font-weight: bold\">5</span><span style=\"font-weight: bold\">))</span> after connection broken by <span style=\"color: #008000; text-decoration-color: #008000\">'ProtocolError('</span>Connection <span style=\"color: #7f7f7f; text-decoration-color: #7f7f7f\">                     </span>\n",
       "<span style=\"color: #7fbfbf; text-decoration-color: #7fbfbf\">                    </span>         aborted.<span style=\"color: #008000; text-decoration-color: #008000\">', ConnectionResetError(104, '</span>Connection reset by        <span style=\"color: #7f7f7f; text-decoration-color: #7f7f7f\">                     </span>\n",
       "<span style=\"color: #7fbfbf; text-decoration-color: #7fbfbf\">                    </span>         peer'<span style=\"font-weight: bold\">))</span>':                                                        <span style=\"color: #7f7f7f; text-decoration-color: #7f7f7f\">                     </span>\n",
       "<span style=\"color: #7fbfbf; text-decoration-color: #7fbfbf\">                    </span>         <span style=\"color: #800080; text-decoration-color: #800080\">/hugocool/kedro-mlflow-bentoml.mlflow/api/2.0/mlflow-artifacts/a</span> <span style=\"color: #7f7f7f; text-decoration-color: #7f7f7f\">                     </span>\n",
       "<span style=\"color: #7fbfbf; text-decoration-color: #7fbfbf\">                    </span>         <span style=\"color: #800080; text-decoration-color: #800080\">rtifacts/9f3526bc7885434094021294406240a2/ad89d72ee7834858bc3648</span> <span style=\"color: #7f7f7f; text-decoration-color: #7f7f7f\">                     </span>\n",
       "<span style=\"color: #7fbfbf; text-decoration-color: #7fbfbf\">                    </span>         <span style=\"color: #800080; text-decoration-color: #800080\">3b2e0b78ec/artifacts/model/</span><span style=\"color: #ff00ff; text-decoration-color: #ff00ff\">model.pkl</span>                             <span style=\"color: #7f7f7f; text-decoration-color: #7f7f7f\">                     </span>\n",
       "</pre>\n"
      ],
      "text/plain": [
       "\u001b[2;36m                   \u001b[0m\u001b[2;36m \u001b[0m\u001b[31mWARNING \u001b[0m Retrying \u001b[1m(\u001b[0m\u001b[1;35mRetry\u001b[0m\u001b[1m(\u001b[0m\u001b[33mtotal\u001b[0m=\u001b[1;36m4\u001b[0m, \u001b[33mconnect\u001b[0m=\u001b[1;36m5\u001b[0m, \u001b[33mread\u001b[0m=\u001b[1;36m4\u001b[0m, \u001b[33mredirect\u001b[0m=\u001b[1;36m5\u001b[0m,          \u001b]8;id=38764;file:///workspace/kedro-mlflow-bentoml/.venv/lib/python3.9/site-packages/urllib3/connectionpool.py\u001b\\\u001b[2mconnectionpool.py\u001b[0m\u001b]8;;\u001b\\\u001b[2m:\u001b[0m\u001b]8;id=654818;file:///workspace/kedro-mlflow-bentoml/.venv/lib/python3.9/site-packages/urllib3/connectionpool.py#812\u001b\\\u001b[2m812\u001b[0m\u001b]8;;\u001b\\\n",
       "\u001b[2;36m                    \u001b[0m         \u001b[33mstatus\u001b[0m=\u001b[1;36m5\u001b[0m\u001b[1m)\u001b[0m\u001b[1m)\u001b[0m after connection broken by \u001b[32m'ProtocolError\u001b[0m\u001b[32m(\u001b[0m\u001b[32m'\u001b[0mConnection \u001b[2m                     \u001b[0m\n",
       "\u001b[2;36m                    \u001b[0m         aborted.\u001b[32m', ConnectionResetError\u001b[0m\u001b[32m(\u001b[0m\u001b[32m104, '\u001b[0mConnection reset by        \u001b[2m                     \u001b[0m\n",
       "\u001b[2;36m                    \u001b[0m         peer'\u001b[1m)\u001b[0m\u001b[1m)\u001b[0m':                                                        \u001b[2m                     \u001b[0m\n",
       "\u001b[2;36m                    \u001b[0m         \u001b[35m/hugocool/kedro-mlflow-bentoml.mlflow/api/2.0/mlflow-artifacts/a\u001b[0m \u001b[2m                     \u001b[0m\n",
       "\u001b[2;36m                    \u001b[0m         \u001b[35mrtifacts/9f3526bc7885434094021294406240a2/ad89d72ee7834858bc3648\u001b[0m \u001b[2m                     \u001b[0m\n",
       "\u001b[2;36m                    \u001b[0m         \u001b[35m3b2e0b78ec/artifacts/model/\u001b[0m\u001b[95mmodel.pkl\u001b[0m                             \u001b[2m                     \u001b[0m\n"
      ]
     },
     "metadata": {},
     "output_type": "display_data"
    },
    {
     "data": {
      "text/html": [
       "<pre style=\"white-space:pre;overflow-x:auto;line-height:normal;font-family:Menlo,'DejaVu Sans Mono',consolas,'Courier New',monospace\"><span style=\"color: #7fbfbf; text-decoration-color: #7fbfbf\">                    </span><span style=\"color: #800000; text-decoration-color: #800000\">WARNING </span> Retrying <span style=\"font-weight: bold\">(</span><span style=\"color: #800080; text-decoration-color: #800080; font-weight: bold\">Retry</span><span style=\"font-weight: bold\">(</span><span style=\"color: #808000; text-decoration-color: #808000\">total</span>=<span style=\"color: #008080; text-decoration-color: #008080; font-weight: bold\">4</span>, <span style=\"color: #808000; text-decoration-color: #808000\">connect</span>=<span style=\"color: #008080; text-decoration-color: #008080; font-weight: bold\">5</span>, <span style=\"color: #808000; text-decoration-color: #808000\">read</span>=<span style=\"color: #008080; text-decoration-color: #008080; font-weight: bold\">4</span>, <span style=\"color: #808000; text-decoration-color: #808000\">redirect</span>=<span style=\"color: #008080; text-decoration-color: #008080; font-weight: bold\">5</span>,          <a href=\"file:///workspace/kedro-mlflow-bentoml/.venv/lib/python3.9/site-packages/urllib3/connectionpool.py\" target=\"_blank\"><span style=\"color: #7f7f7f; text-decoration-color: #7f7f7f\">connectionpool.py</span></a><span style=\"color: #7f7f7f; text-decoration-color: #7f7f7f\">:</span><a href=\"file:///workspace/kedro-mlflow-bentoml/.venv/lib/python3.9/site-packages/urllib3/connectionpool.py#812\" target=\"_blank\"><span style=\"color: #7f7f7f; text-decoration-color: #7f7f7f\">812</span></a>\n",
       "<span style=\"color: #7fbfbf; text-decoration-color: #7fbfbf\">                    </span>         <span style=\"color: #808000; text-decoration-color: #808000\">status</span>=<span style=\"color: #008080; text-decoration-color: #008080; font-weight: bold\">5</span><span style=\"font-weight: bold\">))</span> after connection broken by <span style=\"color: #008000; text-decoration-color: #008000\">'ProtocolError('</span>Connection <span style=\"color: #7f7f7f; text-decoration-color: #7f7f7f\">                     </span>\n",
       "<span style=\"color: #7fbfbf; text-decoration-color: #7fbfbf\">                    </span>         aborted.<span style=\"color: #008000; text-decoration-color: #008000\">', ConnectionResetError(104, '</span>Connection reset by        <span style=\"color: #7f7f7f; text-decoration-color: #7f7f7f\">                     </span>\n",
       "<span style=\"color: #7fbfbf; text-decoration-color: #7fbfbf\">                    </span>         peer'<span style=\"font-weight: bold\">))</span>':                                                        <span style=\"color: #7f7f7f; text-decoration-color: #7f7f7f\">                     </span>\n",
       "<span style=\"color: #7fbfbf; text-decoration-color: #7fbfbf\">                    </span>         <span style=\"color: #800080; text-decoration-color: #800080\">/hugocool/kedro-mlflow-bentoml.mlflow/api/2.0/mlflow-artifacts/a</span> <span style=\"color: #7f7f7f; text-decoration-color: #7f7f7f\">                     </span>\n",
       "<span style=\"color: #7fbfbf; text-decoration-color: #7fbfbf\">                    </span>         <span style=\"color: #800080; text-decoration-color: #800080\">rtifacts/9f3526bc7885434094021294406240a2/ad89d72ee7834858bc3648</span> <span style=\"color: #7f7f7f; text-decoration-color: #7f7f7f\">                     </span>\n",
       "<span style=\"color: #7fbfbf; text-decoration-color: #7fbfbf\">                    </span>         <span style=\"color: #800080; text-decoration-color: #800080\">3b2e0b78ec/artifacts/model/</span><span style=\"color: #ff00ff; text-decoration-color: #ff00ff\">python_env.yaml</span>                       <span style=\"color: #7f7f7f; text-decoration-color: #7f7f7f\">                     </span>\n",
       "</pre>\n"
      ],
      "text/plain": [
       "\u001b[2;36m                   \u001b[0m\u001b[2;36m \u001b[0m\u001b[31mWARNING \u001b[0m Retrying \u001b[1m(\u001b[0m\u001b[1;35mRetry\u001b[0m\u001b[1m(\u001b[0m\u001b[33mtotal\u001b[0m=\u001b[1;36m4\u001b[0m, \u001b[33mconnect\u001b[0m=\u001b[1;36m5\u001b[0m, \u001b[33mread\u001b[0m=\u001b[1;36m4\u001b[0m, \u001b[33mredirect\u001b[0m=\u001b[1;36m5\u001b[0m,          \u001b]8;id=391582;file:///workspace/kedro-mlflow-bentoml/.venv/lib/python3.9/site-packages/urllib3/connectionpool.py\u001b\\\u001b[2mconnectionpool.py\u001b[0m\u001b]8;;\u001b\\\u001b[2m:\u001b[0m\u001b]8;id=969878;file:///workspace/kedro-mlflow-bentoml/.venv/lib/python3.9/site-packages/urllib3/connectionpool.py#812\u001b\\\u001b[2m812\u001b[0m\u001b]8;;\u001b\\\n",
       "\u001b[2;36m                    \u001b[0m         \u001b[33mstatus\u001b[0m=\u001b[1;36m5\u001b[0m\u001b[1m)\u001b[0m\u001b[1m)\u001b[0m after connection broken by \u001b[32m'ProtocolError\u001b[0m\u001b[32m(\u001b[0m\u001b[32m'\u001b[0mConnection \u001b[2m                     \u001b[0m\n",
       "\u001b[2;36m                    \u001b[0m         aborted.\u001b[32m', ConnectionResetError\u001b[0m\u001b[32m(\u001b[0m\u001b[32m104, '\u001b[0mConnection reset by        \u001b[2m                     \u001b[0m\n",
       "\u001b[2;36m                    \u001b[0m         peer'\u001b[1m)\u001b[0m\u001b[1m)\u001b[0m':                                                        \u001b[2m                     \u001b[0m\n",
       "\u001b[2;36m                    \u001b[0m         \u001b[35m/hugocool/kedro-mlflow-bentoml.mlflow/api/2.0/mlflow-artifacts/a\u001b[0m \u001b[2m                     \u001b[0m\n",
       "\u001b[2;36m                    \u001b[0m         \u001b[35mrtifacts/9f3526bc7885434094021294406240a2/ad89d72ee7834858bc3648\u001b[0m \u001b[2m                     \u001b[0m\n",
       "\u001b[2;36m                    \u001b[0m         \u001b[35m3b2e0b78ec/artifacts/model/\u001b[0m\u001b[95mpython_env.yaml\u001b[0m                       \u001b[2m                     \u001b[0m\n"
      ]
     },
     "metadata": {},
     "output_type": "display_data"
    },
    {
     "data": {
      "text/html": [
       "<pre style=\"white-space:pre;overflow-x:auto;line-height:normal;font-family:Menlo,'DejaVu Sans Mono',consolas,'Courier New',monospace\"><span style=\"color: #7fbfbf; text-decoration-color: #7fbfbf\">[01/30/23 13:41:12] </span><span style=\"color: #800000; text-decoration-color: #800000\">WARNING </span> Retrying <span style=\"font-weight: bold\">(</span><span style=\"color: #800080; text-decoration-color: #800080; font-weight: bold\">Retry</span><span style=\"font-weight: bold\">(</span><span style=\"color: #808000; text-decoration-color: #808000\">total</span>=<span style=\"color: #008080; text-decoration-color: #008080; font-weight: bold\">3</span>, <span style=\"color: #808000; text-decoration-color: #808000\">connect</span>=<span style=\"color: #008080; text-decoration-color: #008080; font-weight: bold\">5</span>, <span style=\"color: #808000; text-decoration-color: #808000\">read</span>=<span style=\"color: #008080; text-decoration-color: #008080; font-weight: bold\">3</span>, <span style=\"color: #808000; text-decoration-color: #808000\">redirect</span>=<span style=\"color: #008080; text-decoration-color: #008080; font-weight: bold\">5</span>,          <a href=\"file:///workspace/kedro-mlflow-bentoml/.venv/lib/python3.9/site-packages/urllib3/connectionpool.py\" target=\"_blank\"><span style=\"color: #7f7f7f; text-decoration-color: #7f7f7f\">connectionpool.py</span></a><span style=\"color: #7f7f7f; text-decoration-color: #7f7f7f\">:</span><a href=\"file:///workspace/kedro-mlflow-bentoml/.venv/lib/python3.9/site-packages/urllib3/connectionpool.py#812\" target=\"_blank\"><span style=\"color: #7f7f7f; text-decoration-color: #7f7f7f\">812</span></a>\n",
       "<span style=\"color: #7fbfbf; text-decoration-color: #7fbfbf\">                    </span>         <span style=\"color: #808000; text-decoration-color: #808000\">status</span>=<span style=\"color: #008080; text-decoration-color: #008080; font-weight: bold\">5</span><span style=\"font-weight: bold\">))</span> after connection broken by <span style=\"color: #008000; text-decoration-color: #008000\">'ProtocolError('</span>Connection <span style=\"color: #7f7f7f; text-decoration-color: #7f7f7f\">                     </span>\n",
       "<span style=\"color: #7fbfbf; text-decoration-color: #7fbfbf\">                    </span>         aborted.<span style=\"color: #008000; text-decoration-color: #008000\">', ConnectionResetError(104, '</span>Connection reset by        <span style=\"color: #7f7f7f; text-decoration-color: #7f7f7f\">                     </span>\n",
       "<span style=\"color: #7fbfbf; text-decoration-color: #7fbfbf\">                    </span>         peer'<span style=\"font-weight: bold\">))</span>':                                                        <span style=\"color: #7f7f7f; text-decoration-color: #7f7f7f\">                     </span>\n",
       "<span style=\"color: #7fbfbf; text-decoration-color: #7fbfbf\">                    </span>         <span style=\"color: #800080; text-decoration-color: #800080\">/hugocool/kedro-mlflow-bentoml.mlflow/api/2.0/mlflow-artifacts/a</span> <span style=\"color: #7f7f7f; text-decoration-color: #7f7f7f\">                     </span>\n",
       "<span style=\"color: #7fbfbf; text-decoration-color: #7fbfbf\">                    </span>         <span style=\"color: #800080; text-decoration-color: #800080\">rtifacts/9f3526bc7885434094021294406240a2/ad89d72ee7834858bc3648</span> <span style=\"color: #7f7f7f; text-decoration-color: #7f7f7f\">                     </span>\n",
       "<span style=\"color: #7fbfbf; text-decoration-color: #7fbfbf\">                    </span>         <span style=\"color: #800080; text-decoration-color: #800080\">3b2e0b78ec/artifacts/model/</span><span style=\"color: #ff00ff; text-decoration-color: #ff00ff\">conda.yaml</span>                            <span style=\"color: #7f7f7f; text-decoration-color: #7f7f7f\">                     </span>\n",
       "</pre>\n"
      ],
      "text/plain": [
       "\u001b[2;36m[01/30/23 13:41:12]\u001b[0m\u001b[2;36m \u001b[0m\u001b[31mWARNING \u001b[0m Retrying \u001b[1m(\u001b[0m\u001b[1;35mRetry\u001b[0m\u001b[1m(\u001b[0m\u001b[33mtotal\u001b[0m=\u001b[1;36m3\u001b[0m, \u001b[33mconnect\u001b[0m=\u001b[1;36m5\u001b[0m, \u001b[33mread\u001b[0m=\u001b[1;36m3\u001b[0m, \u001b[33mredirect\u001b[0m=\u001b[1;36m5\u001b[0m,          \u001b]8;id=729688;file:///workspace/kedro-mlflow-bentoml/.venv/lib/python3.9/site-packages/urllib3/connectionpool.py\u001b\\\u001b[2mconnectionpool.py\u001b[0m\u001b]8;;\u001b\\\u001b[2m:\u001b[0m\u001b]8;id=37230;file:///workspace/kedro-mlflow-bentoml/.venv/lib/python3.9/site-packages/urllib3/connectionpool.py#812\u001b\\\u001b[2m812\u001b[0m\u001b]8;;\u001b\\\n",
       "\u001b[2;36m                    \u001b[0m         \u001b[33mstatus\u001b[0m=\u001b[1;36m5\u001b[0m\u001b[1m)\u001b[0m\u001b[1m)\u001b[0m after connection broken by \u001b[32m'ProtocolError\u001b[0m\u001b[32m(\u001b[0m\u001b[32m'\u001b[0mConnection \u001b[2m                     \u001b[0m\n",
       "\u001b[2;36m                    \u001b[0m         aborted.\u001b[32m', ConnectionResetError\u001b[0m\u001b[32m(\u001b[0m\u001b[32m104, '\u001b[0mConnection reset by        \u001b[2m                     \u001b[0m\n",
       "\u001b[2;36m                    \u001b[0m         peer'\u001b[1m)\u001b[0m\u001b[1m)\u001b[0m':                                                        \u001b[2m                     \u001b[0m\n",
       "\u001b[2;36m                    \u001b[0m         \u001b[35m/hugocool/kedro-mlflow-bentoml.mlflow/api/2.0/mlflow-artifacts/a\u001b[0m \u001b[2m                     \u001b[0m\n",
       "\u001b[2;36m                    \u001b[0m         \u001b[35mrtifacts/9f3526bc7885434094021294406240a2/ad89d72ee7834858bc3648\u001b[0m \u001b[2m                     \u001b[0m\n",
       "\u001b[2;36m                    \u001b[0m         \u001b[35m3b2e0b78ec/artifacts/model/\u001b[0m\u001b[95mconda.yaml\u001b[0m                            \u001b[2m                     \u001b[0m\n"
      ]
     },
     "metadata": {},
     "output_type": "display_data"
    }
   ],
   "source": [
    "import bentoml\n",
    "\n",
    "\n",
    "artifact_path = 'model'\n",
    "\n",
    "uri = f\"runs:/{run_id}/{artifact_path}\"\n",
    "\n",
    "model = bentoml.mlflow.import_model(\"model\", uri)\n"
   ]
  },
  {
   "cell_type": "code",
   "execution_count": 30,
   "metadata": {},
   "outputs": [
    {
     "data": {
      "text/html": [
       "<pre style=\"white-space:pre;overflow-x:auto;line-height:normal;font-family:Menlo,'DejaVu Sans Mono',consolas,'Courier New',monospace\"><span style=\"color: #7fbfbf; text-decoration-color: #7fbfbf\">[01/30/23 13:41:28] </span><span style=\"color: #800000; text-decoration-color: #800000\">WARNING </span> <span style=\"color: #008000; text-decoration-color: #008000\">'Runner.init_local'</span> is for debugging and testing only. Make sure to      <a href=\"file:///workspace/kedro-mlflow-bentoml/.venv/lib/python3.9/site-packages/bentoml/_internal/runner/runner.py\" target=\"_blank\"><span style=\"color: #7f7f7f; text-decoration-color: #7f7f7f\">runner.py</span></a><span style=\"color: #7f7f7f; text-decoration-color: #7f7f7f\">:</span><a href=\"file:///workspace/kedro-mlflow-bentoml/.venv/lib/python3.9/site-packages/bentoml/_internal/runner/runner.py#244\" target=\"_blank\"><span style=\"color: #7f7f7f; text-decoration-color: #7f7f7f\">244</span></a>\n",
       "<span style=\"color: #7fbfbf; text-decoration-color: #7fbfbf\">                    </span>         remove it before deploying to production.                                <span style=\"color: #7f7f7f; text-decoration-color: #7f7f7f\">             </span>\n",
       "</pre>\n"
      ],
      "text/plain": [
       "\u001b[2;36m[01/30/23 13:41:28]\u001b[0m\u001b[2;36m \u001b[0m\u001b[31mWARNING \u001b[0m \u001b[32m'Runner.init_local'\u001b[0m is for debugging and testing only. Make sure to      \u001b]8;id=578069;file:///workspace/kedro-mlflow-bentoml/.venv/lib/python3.9/site-packages/bentoml/_internal/runner/runner.py\u001b\\\u001b[2mrunner.py\u001b[0m\u001b]8;;\u001b\\\u001b[2m:\u001b[0m\u001b]8;id=286824;file:///workspace/kedro-mlflow-bentoml/.venv/lib/python3.9/site-packages/bentoml/_internal/runner/runner.py#244\u001b\\\u001b[2m244\u001b[0m\u001b]8;;\u001b\\\n",
       "\u001b[2;36m                    \u001b[0m         remove it before deploying to production.                                \u001b[2m             \u001b[0m\n"
      ]
     },
     "metadata": {},
     "output_type": "display_data"
    }
   ],
   "source": [
    "clf = model.to_runner()\n",
    "clf.init_local()"
   ]
  },
  {
   "cell_type": "code",
   "execution_count": 42,
   "metadata": {},
   "outputs": [],
   "source": [
    "ses_res = session.run(to_outputs=['X_train'])\n",
    "X_train = ses_res['X_train']\n",
    "X_test = ses_res['X_test']\n",
    "y_test = ses_res['y_test']"
   ]
  },
  {
   "cell_type": "code",
   "execution_count": 36,
   "metadata": {},
   "outputs": [
    {
     "data": {
      "text/html": [
       "<pre style=\"white-space:pre;overflow-x:auto;line-height:normal;font-family:Menlo,'DejaVu Sans Mono',consolas,'Courier New',monospace\"><span style=\"color: #7fbfbf; text-decoration-color: #7fbfbf\">[01/30/23 13:57:10] </span><span style=\"color: #000080; text-decoration-color: #000080\">INFO    </span> Loading data from <span style=\"color: #008000; text-decoration-color: #008000\">'example_iris_data'</span> <span style=\"font-weight: bold\">(</span>MlflowCSVDataSet<span style=\"font-weight: bold\">)</span><span style=\"color: #808000; text-decoration-color: #808000\">...</span>        <a href=\"file:///workspace/kedro-mlflow-bentoml/.venv/lib/python3.9/site-packages/kedro/io/data_catalog.py\" target=\"_blank\"><span style=\"color: #7f7f7f; text-decoration-color: #7f7f7f\">data_catalog.py</span></a><span style=\"color: #7f7f7f; text-decoration-color: #7f7f7f\">:</span><a href=\"file:///workspace/kedro-mlflow-bentoml/.venv/lib/python3.9/site-packages/kedro/io/data_catalog.py#343\" target=\"_blank\"><span style=\"color: #7f7f7f; text-decoration-color: #7f7f7f\">343</span></a>\n",
       "</pre>\n"
      ],
      "text/plain": [
       "\u001b[2;36m[01/30/23 13:57:10]\u001b[0m\u001b[2;36m \u001b[0m\u001b[34mINFO    \u001b[0m Loading data from \u001b[32m'example_iris_data'\u001b[0m \u001b[1m(\u001b[0mMlflowCSVDataSet\u001b[1m)\u001b[0m\u001b[33m...\u001b[0m        \u001b]8;id=349737;file:///workspace/kedro-mlflow-bentoml/.venv/lib/python3.9/site-packages/kedro/io/data_catalog.py\u001b\\\u001b[2mdata_catalog.py\u001b[0m\u001b]8;;\u001b\\\u001b[2m:\u001b[0m\u001b]8;id=823012;file:///workspace/kedro-mlflow-bentoml/.venv/lib/python3.9/site-packages/kedro/io/data_catalog.py#343\u001b\\\u001b[2m343\u001b[0m\u001b]8;;\u001b\\\n"
      ]
     },
     "metadata": {},
     "output_type": "display_data"
    }
   ],
   "source": [
    "data = catalog.load(\"example_iris_data\")\n",
    "sample_data = data.sample()\n",
    "X = sample_data.drop(columns = ['species'])\n"
   ]
  },
  {
   "attachments": {},
   "cell_type": "markdown",
   "metadata": {},
   "source": [
    "## Make predictions locally"
   ]
  },
  {
   "cell_type": "code",
   "execution_count": 41,
   "metadata": {},
   "outputs": [
    {
     "data": {
      "text/html": [
       "<pre style=\"white-space:pre;overflow-x:auto;line-height:normal;font-family:Menlo,'DejaVu Sans Mono',consolas,'Courier New',monospace\">\n",
       "<span style=\"color: #800080; text-decoration-color: #800080; font-weight: bold\">array</span><span style=\"font-weight: bold\">([</span><span style=\"color: #008000; text-decoration-color: #008000\">'setosa'</span>, <span style=\"color: #008000; text-decoration-color: #008000\">'setosa'</span>, <span style=\"color: #008000; text-decoration-color: #008000\">'setosa'</span>, <span style=\"color: #008000; text-decoration-color: #008000\">'setosa'</span>, <span style=\"color: #008000; text-decoration-color: #008000\">'setosa'</span>, <span style=\"color: #008000; text-decoration-color: #008000\">'setosa'</span>,\n",
       "       <span style=\"color: #008000; text-decoration-color: #008000\">'setosa'</span>, <span style=\"color: #008000; text-decoration-color: #008000\">'setosa'</span>, <span style=\"color: #008000; text-decoration-color: #008000\">'setosa'</span>, <span style=\"color: #008000; text-decoration-color: #008000\">'setosa'</span>, <span style=\"color: #008000; text-decoration-color: #008000\">'versicolor'</span>, <span style=\"color: #008000; text-decoration-color: #008000\">'versicolor'</span>,\n",
       "       <span style=\"color: #008000; text-decoration-color: #008000\">'versicolor'</span>, <span style=\"color: #008000; text-decoration-color: #008000\">'versicolor'</span>, <span style=\"color: #008000; text-decoration-color: #008000\">'versicolor'</span>, <span style=\"color: #008000; text-decoration-color: #008000\">'versicolor'</span>,\n",
       "       <span style=\"color: #008000; text-decoration-color: #008000\">'versicolor'</span>, <span style=\"color: #008000; text-decoration-color: #008000\">'versicolor'</span>, <span style=\"color: #008000; text-decoration-color: #008000\">'versicolor'</span>, <span style=\"color: #008000; text-decoration-color: #008000\">'virginica'</span>,\n",
       "       <span style=\"color: #008000; text-decoration-color: #008000\">'versicolor'</span>, <span style=\"color: #008000; text-decoration-color: #008000\">'virginica'</span>, <span style=\"color: #008000; text-decoration-color: #008000\">'virginica'</span>, <span style=\"color: #008000; text-decoration-color: #008000\">'versicolor'</span>, <span style=\"color: #008000; text-decoration-color: #008000\">'virginica'</span>,\n",
       "       <span style=\"color: #008000; text-decoration-color: #008000\">'virginica'</span>, <span style=\"color: #008000; text-decoration-color: #008000\">'virginica'</span>, <span style=\"color: #008000; text-decoration-color: #008000\">'virginica'</span>, <span style=\"color: #008000; text-decoration-color: #008000\">'versicolor'</span>, <span style=\"color: #008000; text-decoration-color: #008000\">'virginica'</span><span style=\"font-weight: bold\">]</span>,\n",
       "      <span style=\"color: #808000; text-decoration-color: #808000\">dtype</span>=<span style=\"color: #800080; text-decoration-color: #800080\">object</span><span style=\"font-weight: bold\">)</span>\n",
       "</pre>\n"
      ],
      "text/plain": [
       "\n",
       "\u001b[1;35marray\u001b[0m\u001b[1m(\u001b[0m\u001b[1m[\u001b[0m\u001b[32m'setosa'\u001b[0m, \u001b[32m'setosa'\u001b[0m, \u001b[32m'setosa'\u001b[0m, \u001b[32m'setosa'\u001b[0m, \u001b[32m'setosa'\u001b[0m, \u001b[32m'setosa'\u001b[0m,\n",
       "       \u001b[32m'setosa'\u001b[0m, \u001b[32m'setosa'\u001b[0m, \u001b[32m'setosa'\u001b[0m, \u001b[32m'setosa'\u001b[0m, \u001b[32m'versicolor'\u001b[0m, \u001b[32m'versicolor'\u001b[0m,\n",
       "       \u001b[32m'versicolor'\u001b[0m, \u001b[32m'versicolor'\u001b[0m, \u001b[32m'versicolor'\u001b[0m, \u001b[32m'versicolor'\u001b[0m,\n",
       "       \u001b[32m'versicolor'\u001b[0m, \u001b[32m'versicolor'\u001b[0m, \u001b[32m'versicolor'\u001b[0m, \u001b[32m'virginica'\u001b[0m,\n",
       "       \u001b[32m'versicolor'\u001b[0m, \u001b[32m'virginica'\u001b[0m, \u001b[32m'virginica'\u001b[0m, \u001b[32m'versicolor'\u001b[0m, \u001b[32m'virginica'\u001b[0m,\n",
       "       \u001b[32m'virginica'\u001b[0m, \u001b[32m'virginica'\u001b[0m, \u001b[32m'virginica'\u001b[0m, \u001b[32m'versicolor'\u001b[0m, \u001b[32m'virginica'\u001b[0m\u001b[1m]\u001b[0m,\n",
       "      \u001b[33mdtype\u001b[0m=\u001b[35mobject\u001b[0m\u001b[1m)\u001b[0m\n"
      ]
     },
     "metadata": {},
     "output_type": "display_data"
    }
   ],
   "source": [
    "clf.predict.run(X_test)"
   ]
  },
  {
   "cell_type": "code",
   "execution_count": 43,
   "metadata": {},
   "outputs": [
    {
     "data": {
      "text/html": [
       "<pre style=\"white-space:pre;overflow-x:auto;line-height:normal;font-family:Menlo,'DejaVu Sans Mono',consolas,'Courier New',monospace\"><span style=\"font-weight: bold\">&lt;</span><span style=\"color: #ff00ff; text-decoration-color: #ff00ff; font-weight: bold\">Schema</span><span style=\"color: #000000; text-decoration-color: #000000\"> </span><span style=\"color: #800080; text-decoration-color: #800080; font-weight: bold\">DataFrameSchema</span><span style=\"color: #000000; text-decoration-color: #000000; font-weight: bold\">(</span><span style=\"color: #808000; text-decoration-color: #808000\">columns</span><span style=\"color: #000000; text-decoration-color: #000000\">=</span><span style=\"color: #000000; text-decoration-color: #000000; font-weight: bold\">{</span><span style=\"color: #008000; text-decoration-color: #008000\">'sepal_length'</span><span style=\"color: #000000; text-decoration-color: #000000\">: &lt;Schema </span><span style=\"color: #800080; text-decoration-color: #800080; font-weight: bold\">Column</span><span style=\"color: #000000; text-decoration-color: #000000; font-weight: bold\">(</span><span style=\"color: #808000; text-decoration-color: #808000\">name</span><span style=\"color: #000000; text-decoration-color: #000000\">=</span><span style=\"color: #800080; text-decoration-color: #800080\">sepal_length</span><span style=\"color: #000000; text-decoration-color: #000000\">, </span><span style=\"color: #808000; text-decoration-color: #808000\">type</span><span style=\"color: #000000; text-decoration-color: #000000\">=</span><span style=\"color: #800080; text-decoration-color: #800080; font-weight: bold\">DataType</span><span style=\"color: #000000; text-decoration-color: #000000; font-weight: bold\">(</span><span style=\"color: #000000; text-decoration-color: #000000\">float64</span><span style=\"color: #000000; text-decoration-color: #000000; font-weight: bold\">))</span><span style=\"font-weight: bold\">&gt;</span>, <span style=\"color: #008000; text-decoration-color: #008000\">'sepal_width'</span>: <span style=\"font-weight: bold\">&lt;</span><span style=\"color: #ff00ff; text-decoration-color: #ff00ff; font-weight: bold\">Schema</span><span style=\"color: #000000; text-decoration-color: #000000\"> </span><span style=\"color: #800080; text-decoration-color: #800080; font-weight: bold\">Column</span><span style=\"color: #000000; text-decoration-color: #000000; font-weight: bold\">(</span><span style=\"color: #808000; text-decoration-color: #808000\">name</span><span style=\"color: #000000; text-decoration-color: #000000\">=</span><span style=\"color: #800080; text-decoration-color: #800080\">sepal_width</span><span style=\"color: #000000; text-decoration-color: #000000\">, </span><span style=\"color: #808000; text-decoration-color: #808000\">type</span><span style=\"color: #000000; text-decoration-color: #000000\">=</span><span style=\"color: #800080; text-decoration-color: #800080; font-weight: bold\">DataType</span><span style=\"color: #000000; text-decoration-color: #000000; font-weight: bold\">(</span><span style=\"color: #000000; text-decoration-color: #000000\">float64</span><span style=\"color: #000000; text-decoration-color: #000000; font-weight: bold\">))</span><span style=\"font-weight: bold\">&gt;</span>, <span style=\"color: #008000; text-decoration-color: #008000\">'petal_length'</span>: <span style=\"font-weight: bold\">&lt;</span><span style=\"color: #ff00ff; text-decoration-color: #ff00ff; font-weight: bold\">Schema</span><span style=\"color: #000000; text-decoration-color: #000000\"> </span><span style=\"color: #800080; text-decoration-color: #800080; font-weight: bold\">Column</span><span style=\"color: #000000; text-decoration-color: #000000; font-weight: bold\">(</span><span style=\"color: #808000; text-decoration-color: #808000\">name</span><span style=\"color: #000000; text-decoration-color: #000000\">=</span><span style=\"color: #800080; text-decoration-color: #800080\">petal_length</span><span style=\"color: #000000; text-decoration-color: #000000\">, </span><span style=\"color: #808000; text-decoration-color: #808000\">type</span><span style=\"color: #000000; text-decoration-color: #000000\">=</span><span style=\"color: #800080; text-decoration-color: #800080; font-weight: bold\">DataType</span><span style=\"color: #000000; text-decoration-color: #000000; font-weight: bold\">(</span><span style=\"color: #000000; text-decoration-color: #000000\">float64</span><span style=\"color: #000000; text-decoration-color: #000000; font-weight: bold\">))</span><span style=\"font-weight: bold\">&gt;</span>, <span style=\"color: #008000; text-decoration-color: #008000\">'petal_width'</span>: <span style=\"font-weight: bold\">&lt;</span><span style=\"color: #ff00ff; text-decoration-color: #ff00ff; font-weight: bold\">Schema</span><span style=\"color: #000000; text-decoration-color: #000000\"> </span><span style=\"color: #800080; text-decoration-color: #800080; font-weight: bold\">Column</span><span style=\"color: #000000; text-decoration-color: #000000; font-weight: bold\">(</span><span style=\"color: #808000; text-decoration-color: #808000\">name</span><span style=\"color: #000000; text-decoration-color: #000000\">=</span><span style=\"color: #800080; text-decoration-color: #800080\">petal_width</span><span style=\"color: #000000; text-decoration-color: #000000\">, </span><span style=\"color: #808000; text-decoration-color: #808000\">type</span><span style=\"color: #000000; text-decoration-color: #000000\">=</span><span style=\"color: #800080; text-decoration-color: #800080; font-weight: bold\">DataType</span><span style=\"color: #000000; text-decoration-color: #000000; font-weight: bold\">(</span><span style=\"color: #000000; text-decoration-color: #000000\">float64</span><span style=\"color: #000000; text-decoration-color: #000000; font-weight: bold\">))</span><span style=\"font-weight: bold\">&gt;}</span>, <span style=\"color: #808000; text-decoration-color: #808000\">checks</span>=<span style=\"font-weight: bold\">[]</span>, <span style=\"color: #808000; text-decoration-color: #808000\">index</span>=<span style=\"font-weight: bold\">&lt;</span><span style=\"color: #ff00ff; text-decoration-color: #ff00ff; font-weight: bold\">Schema</span><span style=\"color: #000000; text-decoration-color: #000000\"> </span><span style=\"color: #800080; text-decoration-color: #800080; font-weight: bold\">Index</span><span style=\"color: #000000; text-decoration-color: #000000; font-weight: bold\">(</span><span style=\"color: #808000; text-decoration-color: #808000\">name</span><span style=\"color: #000000; text-decoration-color: #000000\">=</span><span style=\"color: #800080; text-decoration-color: #800080; font-style: italic\">None</span><span style=\"color: #000000; text-decoration-color: #000000\">, </span><span style=\"color: #808000; text-decoration-color: #808000\">type</span><span style=\"color: #000000; text-decoration-color: #000000\">=</span><span style=\"color: #800080; text-decoration-color: #800080; font-weight: bold\">DataType</span><span style=\"color: #000000; text-decoration-color: #000000; font-weight: bold\">(</span><span style=\"color: #000000; text-decoration-color: #000000\">int64</span><span style=\"color: #000000; text-decoration-color: #000000; font-weight: bold\">))</span><span style=\"font-weight: bold\">&gt;</span>, <span style=\"color: #808000; text-decoration-color: #808000\">coerce</span>=<span style=\"color: #00ff00; text-decoration-color: #00ff00; font-style: italic\">True</span>, <span style=\"color: #808000; text-decoration-color: #808000\">dtype</span>=<span style=\"color: #800080; text-decoration-color: #800080; font-style: italic\">None</span>, <span style=\"color: #808000; text-decoration-color: #808000\">strict</span>=<span style=\"color: #ff0000; text-decoration-color: #ff0000; font-style: italic\">False</span>, <span style=\"color: #808000; text-decoration-color: #808000\">name</span>=<span style=\"color: #800080; text-decoration-color: #800080; font-style: italic\">None</span>, <span style=\"color: #808000; text-decoration-color: #808000\">ordered</span>=<span style=\"color: #ff0000; text-decoration-color: #ff0000; font-style: italic\">False</span>, <span style=\"color: #808000; text-decoration-color: #808000\">unique_column_names</span>=<span style=\"color: #ff0000; text-decoration-color: #ff0000; font-style: italic\">False</span><span style=\"font-weight: bold\">)</span>&gt;\n",
       "</pre>\n"
      ],
      "text/plain": [
       "\u001b[1m<\u001b[0m\u001b[1;95mSchema\u001b[0m\u001b[39m \u001b[0m\u001b[1;35mDataFrameSchema\u001b[0m\u001b[1;39m(\u001b[0m\u001b[33mcolumns\u001b[0m\u001b[39m=\u001b[0m\u001b[1;39m{\u001b[0m\u001b[32m'sepal_length'\u001b[0m\u001b[39m: <Schema \u001b[0m\u001b[1;35mColumn\u001b[0m\u001b[1;39m(\u001b[0m\u001b[33mname\u001b[0m\u001b[39m=\u001b[0m\u001b[35msepal_length\u001b[0m\u001b[39m, \u001b[0m\u001b[33mtype\u001b[0m\u001b[39m=\u001b[0m\u001b[1;35mDataType\u001b[0m\u001b[1;39m(\u001b[0m\u001b[39mfloat64\u001b[0m\u001b[1;39m)\u001b[0m\u001b[1;39m)\u001b[0m\u001b[1m>\u001b[0m, \u001b[32m'sepal_width'\u001b[0m: \u001b[1m<\u001b[0m\u001b[1;95mSchema\u001b[0m\u001b[39m \u001b[0m\u001b[1;35mColumn\u001b[0m\u001b[1;39m(\u001b[0m\u001b[33mname\u001b[0m\u001b[39m=\u001b[0m\u001b[35msepal_width\u001b[0m\u001b[39m, \u001b[0m\u001b[33mtype\u001b[0m\u001b[39m=\u001b[0m\u001b[1;35mDataType\u001b[0m\u001b[1;39m(\u001b[0m\u001b[39mfloat64\u001b[0m\u001b[1;39m)\u001b[0m\u001b[1;39m)\u001b[0m\u001b[1m>\u001b[0m, \u001b[32m'petal_length'\u001b[0m: \u001b[1m<\u001b[0m\u001b[1;95mSchema\u001b[0m\u001b[39m \u001b[0m\u001b[1;35mColumn\u001b[0m\u001b[1;39m(\u001b[0m\u001b[33mname\u001b[0m\u001b[39m=\u001b[0m\u001b[35mpetal_length\u001b[0m\u001b[39m, \u001b[0m\u001b[33mtype\u001b[0m\u001b[39m=\u001b[0m\u001b[1;35mDataType\u001b[0m\u001b[1;39m(\u001b[0m\u001b[39mfloat64\u001b[0m\u001b[1;39m)\u001b[0m\u001b[1;39m)\u001b[0m\u001b[1m>\u001b[0m, \u001b[32m'petal_width'\u001b[0m: \u001b[1m<\u001b[0m\u001b[1;95mSchema\u001b[0m\u001b[39m \u001b[0m\u001b[1;35mColumn\u001b[0m\u001b[1;39m(\u001b[0m\u001b[33mname\u001b[0m\u001b[39m=\u001b[0m\u001b[35mpetal_width\u001b[0m\u001b[39m, \u001b[0m\u001b[33mtype\u001b[0m\u001b[39m=\u001b[0m\u001b[1;35mDataType\u001b[0m\u001b[1;39m(\u001b[0m\u001b[39mfloat64\u001b[0m\u001b[1;39m)\u001b[0m\u001b[1;39m)\u001b[0m\u001b[1m>\u001b[0m\u001b[1m}\u001b[0m, \u001b[33mchecks\u001b[0m=\u001b[1m[\u001b[0m\u001b[1m]\u001b[0m, \u001b[33mindex\u001b[0m=\u001b[1m<\u001b[0m\u001b[1;95mSchema\u001b[0m\u001b[39m \u001b[0m\u001b[1;35mIndex\u001b[0m\u001b[1;39m(\u001b[0m\u001b[33mname\u001b[0m\u001b[39m=\u001b[0m\u001b[3;35mNone\u001b[0m\u001b[39m, \u001b[0m\u001b[33mtype\u001b[0m\u001b[39m=\u001b[0m\u001b[1;35mDataType\u001b[0m\u001b[1;39m(\u001b[0m\u001b[39mint64\u001b[0m\u001b[1;39m)\u001b[0m\u001b[1;39m)\u001b[0m\u001b[1m>\u001b[0m, \u001b[33mcoerce\u001b[0m=\u001b[3;92mTrue\u001b[0m, \u001b[33mdtype\u001b[0m=\u001b[3;35mNone\u001b[0m, \u001b[33mstrict\u001b[0m=\u001b[3;91mFalse\u001b[0m, \u001b[33mname\u001b[0m=\u001b[3;35mNone\u001b[0m, \u001b[33mordered\u001b[0m=\u001b[3;91mFalse\u001b[0m, \u001b[33munique_column_names\u001b[0m=\u001b[3;91mFalse\u001b[0m\u001b[1m)\u001b[0m>\n"
      ]
     },
     "metadata": {},
     "output_type": "display_data"
    }
   ],
   "source": [
    "import pandera as pa\n",
    "\n",
    "pa.infer_schema(X_train) # also save this in mlflow"
   ]
  },
  {
   "attachments": {},
   "cell_type": "markdown",
   "metadata": {},
   "source": [
    "# Test the served model"
   ]
  },
  {
   "cell_type": "code",
   "execution_count": 91,
   "metadata": {},
   "outputs": [
    {
     "data": {
      "text/html": [
       "<pre style=\"white-space:pre;overflow-x:auto;line-height:normal;font-family:Menlo,'DejaVu Sans Mono',consolas,'Courier New',monospace\">\n",
       "<span style=\"font-weight: bold\">{</span>\n",
       "    <span style=\"color: #008000; text-decoration-color: #008000\">'predictions'</span>: <span style=\"font-weight: bold\">[</span>\n",
       "        <span style=\"color: #008000; text-decoration-color: #008000\">'setosa'</span>,\n",
       "        <span style=\"color: #008000; text-decoration-color: #008000\">'setosa'</span>,\n",
       "        <span style=\"color: #008000; text-decoration-color: #008000\">'setosa'</span>,\n",
       "        <span style=\"color: #008000; text-decoration-color: #008000\">'setosa'</span>,\n",
       "        <span style=\"color: #008000; text-decoration-color: #008000\">'setosa'</span>,\n",
       "        <span style=\"color: #008000; text-decoration-color: #008000\">'setosa'</span>,\n",
       "        <span style=\"color: #008000; text-decoration-color: #008000\">'setosa'</span>,\n",
       "        <span style=\"color: #008000; text-decoration-color: #008000\">'setosa'</span>,\n",
       "        <span style=\"color: #008000; text-decoration-color: #008000\">'setosa'</span>,\n",
       "        <span style=\"color: #008000; text-decoration-color: #008000\">'setosa'</span>,\n",
       "        <span style=\"color: #008000; text-decoration-color: #008000\">'versicolor'</span>,\n",
       "        <span style=\"color: #008000; text-decoration-color: #008000\">'versicolor'</span>,\n",
       "        <span style=\"color: #008000; text-decoration-color: #008000\">'versicolor'</span>,\n",
       "        <span style=\"color: #008000; text-decoration-color: #008000\">'versicolor'</span>,\n",
       "        <span style=\"color: #008000; text-decoration-color: #008000\">'versicolor'</span>,\n",
       "        <span style=\"color: #008000; text-decoration-color: #008000\">'versicolor'</span>,\n",
       "        <span style=\"color: #008000; text-decoration-color: #008000\">'versicolor'</span>,\n",
       "        <span style=\"color: #008000; text-decoration-color: #008000\">'versicolor'</span>,\n",
       "        <span style=\"color: #008000; text-decoration-color: #008000\">'versicolor'</span>,\n",
       "        <span style=\"color: #008000; text-decoration-color: #008000\">'virginica'</span>,\n",
       "        <span style=\"color: #008000; text-decoration-color: #008000\">'versicolor'</span>,\n",
       "        <span style=\"color: #008000; text-decoration-color: #008000\">'virginica'</span>,\n",
       "        <span style=\"color: #008000; text-decoration-color: #008000\">'virginica'</span>,\n",
       "        <span style=\"color: #008000; text-decoration-color: #008000\">'versicolor'</span>,\n",
       "        <span style=\"color: #008000; text-decoration-color: #008000\">'virginica'</span>,\n",
       "        <span style=\"color: #008000; text-decoration-color: #008000\">'virginica'</span>,\n",
       "        <span style=\"color: #008000; text-decoration-color: #008000\">'virginica'</span>,\n",
       "        <span style=\"color: #008000; text-decoration-color: #008000\">'virginica'</span>,\n",
       "        <span style=\"color: #008000; text-decoration-color: #008000\">'versicolor'</span>,\n",
       "        <span style=\"color: #008000; text-decoration-color: #008000\">'virginica'</span>\n",
       "    <span style=\"font-weight: bold\">]</span>\n",
       "<span style=\"font-weight: bold\">}</span>\n",
       "</pre>\n"
      ],
      "text/plain": [
       "\n",
       "\u001b[1m{\u001b[0m\n",
       "    \u001b[32m'predictions'\u001b[0m: \u001b[1m[\u001b[0m\n",
       "        \u001b[32m'setosa'\u001b[0m,\n",
       "        \u001b[32m'setosa'\u001b[0m,\n",
       "        \u001b[32m'setosa'\u001b[0m,\n",
       "        \u001b[32m'setosa'\u001b[0m,\n",
       "        \u001b[32m'setosa'\u001b[0m,\n",
       "        \u001b[32m'setosa'\u001b[0m,\n",
       "        \u001b[32m'setosa'\u001b[0m,\n",
       "        \u001b[32m'setosa'\u001b[0m,\n",
       "        \u001b[32m'setosa'\u001b[0m,\n",
       "        \u001b[32m'setosa'\u001b[0m,\n",
       "        \u001b[32m'versicolor'\u001b[0m,\n",
       "        \u001b[32m'versicolor'\u001b[0m,\n",
       "        \u001b[32m'versicolor'\u001b[0m,\n",
       "        \u001b[32m'versicolor'\u001b[0m,\n",
       "        \u001b[32m'versicolor'\u001b[0m,\n",
       "        \u001b[32m'versicolor'\u001b[0m,\n",
       "        \u001b[32m'versicolor'\u001b[0m,\n",
       "        \u001b[32m'versicolor'\u001b[0m,\n",
       "        \u001b[32m'versicolor'\u001b[0m,\n",
       "        \u001b[32m'virginica'\u001b[0m,\n",
       "        \u001b[32m'versicolor'\u001b[0m,\n",
       "        \u001b[32m'virginica'\u001b[0m,\n",
       "        \u001b[32m'virginica'\u001b[0m,\n",
       "        \u001b[32m'versicolor'\u001b[0m,\n",
       "        \u001b[32m'virginica'\u001b[0m,\n",
       "        \u001b[32m'virginica'\u001b[0m,\n",
       "        \u001b[32m'virginica'\u001b[0m,\n",
       "        \u001b[32m'virginica'\u001b[0m,\n",
       "        \u001b[32m'versicolor'\u001b[0m,\n",
       "        \u001b[32m'virginica'\u001b[0m\n",
       "    \u001b[1m]\u001b[0m\n",
       "\u001b[1m}\u001b[0m\n"
      ]
     },
     "metadata": {},
     "output_type": "display_data"
    }
   ],
   "source": [
    "import requests\n",
    "\n",
    "requests.post(\"http://0.0.0.0:3000/predict_species\", json = X_test.to_dict(orient='records')).json()"
   ]
  }
 ],
 "metadata": {
  "kernelspec": {
   "display_name": ".venv",
   "language": "python",
   "name": "python3"
  },
  "language_info": {
   "codemirror_mode": {
    "name": "ipython",
    "version": 3
   },
   "file_extension": ".py",
   "mimetype": "text/x-python",
   "name": "python",
   "nbconvert_exporter": "python",
   "pygments_lexer": "ipython3",
   "version": "3.9.16"
  },
  "orig_nbformat": 4,
  "vscode": {
   "interpreter": {
    "hash": "0f436308d47ad247dc902514f57f07ceabfcfd149b076e2fb135e740bc9e7ca7"
   }
  }
 },
 "nbformat": 4,
 "nbformat_minor": 2
}
